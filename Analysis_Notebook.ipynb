{
 "cells": [
  {
   "cell_type": "markdown",
   "id": "0f259a01",
   "metadata": {},
   "source": [
    "# Predicting Customer Churn with Machine Learning 🏦💰\n",
    "\n",
    "<br>\n",
    "\n",
    "**Table of Contents**\n",
    "\n",
    "- [Introduction](#Introduction)\n",
    "- [Libraries](#Libraries)\n",
    "- [Default Parameters](#Default-Parameters)\n",
    "- [A Quick Look at our Data](#A-Quick-Look-at-our-Data)\n",
    "- [Creating a Test Set](#Creating-a-Test-Set)\n",
    "- [Exploratory Data Analysis](#Exploratory-Data-Analysis)\n",
    "- [Data Preprocessing](#Data-Preprocessing)\n",
    "    - [Feature Selection](#Feature-Selection) <br>\n",
    "    - [Encoding Categorical Features](#Encoding-Categorical-Features) <br>\n",
    "    - [Scaling](#Scaling) <br>\n",
    "    - [Addressing Class Imbalance](#Addressing-Class-Imbalance) \n",
    "- [Building Machine Learning Models](#Building-Machine-Learning-Models)\n",
    "    - [Baseline Models](#Baseline-Models) <br>\n",
    "    - [Model Tuning](#Model-Tuning) <br>\n",
    "- [Results](#Results)\n",
    "- [Evaluating the Test Set](#Evaluating-the-Test-Set)\n",
    "- [Bibliography](#Bibliography)\n",
    "- [Conclusions](#Conclusions)\n",
    "\n",
    "\n",
    "<br>\n",
    "\n",
    "# Introduction"
   ]
  },
  {
   "cell_type": "markdown",
   "id": "a2036351",
   "metadata": {},
   "source": [
    "<br>\n",
    "\n",
    "# Libraries"
   ]
  },
  {
   "cell_type": "markdown",
   "id": "6c39bdc9",
   "metadata": {},
   "source": [
    "<br>\n",
    "\n",
    "# Default Parameters"
   ]
  },
  {
   "cell_type": "markdown",
   "id": "f0427d38",
   "metadata": {},
   "source": [
    "<br>\n",
    "\n",
    "# A Quick Look at our Data"
   ]
  },
  {
   "cell_type": "markdown",
   "id": "fae32a07",
   "metadata": {},
   "source": [
    "<br>\n",
    "\n",
    "# Creating a Test Set"
   ]
  },
  {
   "cell_type": "markdown",
   "id": "f3e56bf3",
   "metadata": {},
   "source": [
    "<br>\n",
    "\n",
    "# Exploratory Data Analysis"
   ]
  },
  {
   "cell_type": "markdown",
   "id": "2a7dcd10",
   "metadata": {},
   "source": [
    "<br>\n",
    "\n",
    "# Data Preprocessing\n",
    "\n",
    "<br>\n",
    "\n",
    "## Feature Selection"
   ]
  },
  {
   "cell_type": "markdown",
   "id": "a88d54c6",
   "metadata": {},
   "source": [
    "<br>\n",
    "\n",
    "## Encoding Categorical Features"
   ]
  },
  {
   "cell_type": "markdown",
   "id": "6764dfd3",
   "metadata": {},
   "source": [
    "<br>\n",
    "\n",
    "## Scaling"
   ]
  },
  {
   "cell_type": "markdown",
   "id": "8bce64e7",
   "metadata": {},
   "source": [
    "<br>\n",
    "\n",
    "## Addressing Class Imbalance"
   ]
  },
  {
   "cell_type": "markdown",
   "id": "db48234d",
   "metadata": {},
   "source": [
    "<br>\n",
    "\n",
    "# Building Machine Learning Models\n",
    "\n",
    "<br> \n",
    "\n",
    "## Baseline Models"
   ]
  },
  {
   "cell_type": "markdown",
   "id": "276fd5b5",
   "metadata": {},
   "source": [
    "<br>\n",
    "\n",
    "## Model Tuning"
   ]
  },
  {
   "cell_type": "markdown",
   "id": "b8a23675",
   "metadata": {},
   "source": [
    "<br>\n",
    "\n",
    "# Results"
   ]
  },
  {
   "cell_type": "markdown",
   "id": "cdff17e1",
   "metadata": {},
   "source": [
    "<br>\n",
    "\n",
    "# Evaluating the Test Set"
   ]
  },
  {
   "cell_type": "markdown",
   "id": "51802306",
   "metadata": {},
   "source": [
    "<br>\n",
    "\n",
    "# Bibliography"
   ]
  },
  {
   "cell_type": "markdown",
   "id": "1fcad2eb",
   "metadata": {},
   "source": [
    "<br>\n",
    "\n",
    "# Conclusions"
   ]
  }
 ],
 "metadata": {
  "hide_input": false,
  "kernelspec": {
   "display_name": "Python 3",
   "language": "python",
   "name": "python3"
  },
  "language_info": {
   "codemirror_mode": {
    "name": "ipython",
    "version": 3
   },
   "file_extension": ".py",
   "mimetype": "text/x-python",
   "name": "python",
   "nbconvert_exporter": "python",
   "pygments_lexer": "ipython3",
   "version": "3.6.8"
  },
  "varInspector": {
   "cols": {
    "lenName": 16,
    "lenType": 16,
    "lenVar": 40
   },
   "kernels_config": {
    "python": {
     "delete_cmd_postfix": "",
     "delete_cmd_prefix": "del ",
     "library": "var_list.py",
     "varRefreshCmd": "print(var_dic_list())"
    },
    "r": {
     "delete_cmd_postfix": ") ",
     "delete_cmd_prefix": "rm(",
     "library": "var_list.r",
     "varRefreshCmd": "cat(var_dic_list()) "
    }
   },
   "types_to_exclude": [
    "module",
    "function",
    "builtin_function_or_method",
    "instance",
    "_Feature"
   ],
   "window_display": false
  }
 },
 "nbformat": 4,
 "nbformat_minor": 5
}

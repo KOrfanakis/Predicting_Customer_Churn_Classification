{
 "cells": [
  {
   "cell_type": "markdown",
   "id": "c79d7e2d",
   "metadata": {},
   "source": [
    "# Predicting Customer Churn with Machine Learning 🏦💰\n",
    "\n",
    "<br>\n",
    "\n",
    "**Table of Contents**\n",
    "\n",
    "- [Introduction](#Introduction)\n",
    "- [Libraries](#Libraries)\n",
    "- [Default Parameters](#Default-Parameters)\n",
    "- [A Quick Look at our Data](#A-Quick-Look-at-our-Data)\n",
    "- [Creating a Test Set](#Creating-a-Test-Set)\n",
    "- [Exploratory Data Analysis](#Exploratory-Data-Analysis)\n",
    "    - [Target Variable: Exited](#Target-Variable:-Exited)\n",
    "- [Data Preprocessing](#Data-Preprocessing)\n",
    "    - [Feature Selection](#Feature-Selection) <br>\n",
    "    - [Encoding Categorical Features](#Encoding-Categorical-Features) <br>\n",
    "    - [Scaling](#Scaling) <br>\n",
    "    - [Addressing Class Imbalance](#Addressing-Class-Imbalance) \n",
    "- [Building Machine Learning Models](#Building-Machine-Learning-Models)\n",
    "    - [Baseline Models](#Baseline-Models) <br>\n",
    "    - [Model Tuning](#Model-Tuning) <br>\n",
    "- [Results](#Results)\n",
    "- [Evaluating the Test Set](#Evaluating-the-Test-Set)\n",
    "- [Bibliography](#Bibliography)\n",
    "- [Conclusions](#Conclusions)\n",
    "\n",
    "\n",
    "<br>\n",
    "\n",
    "# Introduction"
   ]
  },
  {
   "cell_type": "markdown",
   "id": "bff0e70e",
   "metadata": {},
   "source": [
    "<br>\n",
    "\n",
    "# Libraries"
   ]
  },
  {
   "cell_type": "code",
   "execution_count": 1,
   "id": "d96dca5e",
   "metadata": {
    "ExecuteTime": {
     "end_time": "2021-12-01T14:58:13.203121Z",
     "start_time": "2021-12-01T14:58:07.792897Z"
    }
   },
   "outputs": [],
   "source": [
    "# Data Handling and Analysis\n",
    "import numpy as np\n",
    "import pandas as pd\n",
    "\n",
    "# Data Visualisation\n",
    "import matplotlib.pyplot as plt\n",
    "import seaborn as sns\n",
    "\n",
    "# Statistics\n",
    "from scipy.stats import chi2_contingency\n",
    "\n",
    "# Machine Learning\n",
    "from sklearn.model_selection import train_test_split, StratifiedShuffleSplit\n",
    "from sklearn.model_selection import KFold, GridSearchCV\n",
    "from sklearn.model_selection import cross_val_score, cross_val_predict\n",
    "from sklearn.model_selection import learning_curve\n",
    "\n",
    "from sklearn.preprocessing import LabelEncoder, StandardScaler\n",
    "\n",
    "from sklearn.naive_bayes import GaussianNB\n",
    "from sklearn.linear_model import LogisticRegression\n",
    "from sklearn.svm import SVC\n",
    "from sklearn.ensemble import RandomForestClassifier, GradientBoostingClassifier, VotingClassifier\n",
    "from imblearn.ensemble import BalancedRandomForestClassifier\n",
    "from xgboost import XGBClassifier\n",
    "from lightgbm import LGBMClassifier\n",
    "\n",
    "from sklearn.metrics import accuracy_score, precision_score, recall_score, auc, roc_auc_score, roc_curve\n",
    "from sklearn.metrics import make_scorer\n",
    "from sklearn.metrics import confusion_matrix\n",
    "\n",
    "import scikitplot as skplt"
   ]
  },
  {
   "cell_type": "markdown",
   "id": "042919f7",
   "metadata": {},
   "source": [
    "<br>\n",
    "\n",
    "# Default Parameters"
   ]
  },
  {
   "cell_type": "code",
   "execution_count": 2,
   "id": "127d65c1",
   "metadata": {
    "ExecuteTime": {
     "end_time": "2021-12-01T14:58:13.235497Z",
     "start_time": "2021-12-01T14:58:13.207120Z"
    }
   },
   "outputs": [],
   "source": [
    "pd.set_option('precision', 3)\n",
    "\n",
    "%config InlineBackend.figure_format = 'retina'\n",
    "sns.set_style('darkgrid')\n",
    "\n",
    "font_size = 20\n",
    "plt.rcParams['axes.labelsize'] = font_size\n",
    "plt.rcParams['axes.titlesize'] = font_size\n",
    "plt.rcParams['xtick.labelsize'] = font_size - 2\n",
    "plt.rcParams['ytick.labelsize'] = font_size - 2\n",
    "plt.rcParams['legend.fontsize'] = font_size - 2\n",
    "\n",
    "colors = ['#00A5E0', '#DD403A']\n",
    "\n",
    "random_state = 0"
   ]
  },
  {
   "cell_type": "code",
   "execution_count": 3,
   "id": "6dc2b904",
   "metadata": {
    "ExecuteTime": {
     "end_time": "2021-12-01T14:58:13.247171Z",
     "start_time": "2021-12-01T14:58:13.239171Z"
    }
   },
   "outputs": [],
   "source": [
    "scoring_metric = 'roc_auc'"
   ]
  },
  {
   "cell_type": "markdown",
   "id": "da34a2cb",
   "metadata": {},
   "source": [
    "<br>\n",
    "\n",
    "# A Quick Look at our Data\n",
    "\n",
    "We start by importing the dataset as a Pandas DataFrame. We can also take a look at the top five rows using the `head()` method:"
   ]
  },
  {
   "cell_type": "code",
   "execution_count": 4,
   "id": "c839c9a4",
   "metadata": {
    "ExecuteTime": {
     "end_time": "2021-12-01T14:58:13.319173Z",
     "start_time": "2021-12-01T14:58:13.247171Z"
    }
   },
   "outputs": [
    {
     "name": "stdout",
     "output_type": "stream",
     "text": [
      "Dataset Imported Successfully!\n",
      "\n",
      "It contains 10000 rows and 14 columns.\n",
      "Top five rows:\n"
     ]
    },
    {
     "data": {
      "text/html": [
       "<div>\n",
       "<style scoped>\n",
       "    .dataframe tbody tr th:only-of-type {\n",
       "        vertical-align: middle;\n",
       "    }\n",
       "\n",
       "    .dataframe tbody tr th {\n",
       "        vertical-align: top;\n",
       "    }\n",
       "\n",
       "    .dataframe thead th {\n",
       "        text-align: right;\n",
       "    }\n",
       "</style>\n",
       "<table border=\"1\" class=\"dataframe\">\n",
       "  <thead>\n",
       "    <tr style=\"text-align: right;\">\n",
       "      <th></th>\n",
       "      <th>RowNumber</th>\n",
       "      <th>CustomerId</th>\n",
       "      <th>Surname</th>\n",
       "      <th>CreditScore</th>\n",
       "      <th>Geography</th>\n",
       "      <th>Gender</th>\n",
       "      <th>Age</th>\n",
       "      <th>Tenure</th>\n",
       "      <th>Balance</th>\n",
       "      <th>NumOfProducts</th>\n",
       "      <th>HasCrCard</th>\n",
       "      <th>IsActiveMember</th>\n",
       "      <th>EstimatedSalary</th>\n",
       "      <th>Exited</th>\n",
       "    </tr>\n",
       "  </thead>\n",
       "  <tbody>\n",
       "    <tr>\n",
       "      <th>0</th>\n",
       "      <td>1</td>\n",
       "      <td>15634602</td>\n",
       "      <td>Hargrave</td>\n",
       "      <td>619</td>\n",
       "      <td>France</td>\n",
       "      <td>Female</td>\n",
       "      <td>42</td>\n",
       "      <td>2</td>\n",
       "      <td>0.00</td>\n",
       "      <td>1</td>\n",
       "      <td>1</td>\n",
       "      <td>1</td>\n",
       "      <td>101348.88</td>\n",
       "      <td>1</td>\n",
       "    </tr>\n",
       "    <tr>\n",
       "      <th>1</th>\n",
       "      <td>2</td>\n",
       "      <td>15647311</td>\n",
       "      <td>Hill</td>\n",
       "      <td>608</td>\n",
       "      <td>Spain</td>\n",
       "      <td>Female</td>\n",
       "      <td>41</td>\n",
       "      <td>1</td>\n",
       "      <td>83807.86</td>\n",
       "      <td>1</td>\n",
       "      <td>0</td>\n",
       "      <td>1</td>\n",
       "      <td>112542.58</td>\n",
       "      <td>0</td>\n",
       "    </tr>\n",
       "    <tr>\n",
       "      <th>2</th>\n",
       "      <td>3</td>\n",
       "      <td>15619304</td>\n",
       "      <td>Onio</td>\n",
       "      <td>502</td>\n",
       "      <td>France</td>\n",
       "      <td>Female</td>\n",
       "      <td>42</td>\n",
       "      <td>8</td>\n",
       "      <td>159660.80</td>\n",
       "      <td>3</td>\n",
       "      <td>1</td>\n",
       "      <td>0</td>\n",
       "      <td>113931.57</td>\n",
       "      <td>1</td>\n",
       "    </tr>\n",
       "    <tr>\n",
       "      <th>3</th>\n",
       "      <td>4</td>\n",
       "      <td>15701354</td>\n",
       "      <td>Boni</td>\n",
       "      <td>699</td>\n",
       "      <td>France</td>\n",
       "      <td>Female</td>\n",
       "      <td>39</td>\n",
       "      <td>1</td>\n",
       "      <td>0.00</td>\n",
       "      <td>2</td>\n",
       "      <td>0</td>\n",
       "      <td>0</td>\n",
       "      <td>93826.63</td>\n",
       "      <td>0</td>\n",
       "    </tr>\n",
       "    <tr>\n",
       "      <th>4</th>\n",
       "      <td>5</td>\n",
       "      <td>15737888</td>\n",
       "      <td>Mitchell</td>\n",
       "      <td>850</td>\n",
       "      <td>Spain</td>\n",
       "      <td>Female</td>\n",
       "      <td>43</td>\n",
       "      <td>2</td>\n",
       "      <td>125510.82</td>\n",
       "      <td>1</td>\n",
       "      <td>1</td>\n",
       "      <td>1</td>\n",
       "      <td>79084.10</td>\n",
       "      <td>0</td>\n",
       "    </tr>\n",
       "  </tbody>\n",
       "</table>\n",
       "</div>"
      ],
      "text/plain": [
       "   RowNumber  CustomerId   Surname  CreditScore Geography  Gender  Age  \\\n",
       "0          1    15634602  Hargrave          619    France  Female   42   \n",
       "1          2    15647311      Hill          608     Spain  Female   41   \n",
       "2          3    15619304      Onio          502    France  Female   42   \n",
       "3          4    15701354      Boni          699    France  Female   39   \n",
       "4          5    15737888  Mitchell          850     Spain  Female   43   \n",
       "\n",
       "   Tenure    Balance  NumOfProducts  HasCrCard  IsActiveMember  \\\n",
       "0       2       0.00              1          1               1   \n",
       "1       1   83807.86              1          0               1   \n",
       "2       8  159660.80              3          1               0   \n",
       "3       1       0.00              2          0               0   \n",
       "4       2  125510.82              1          1               1   \n",
       "\n",
       "   EstimatedSalary  Exited  \n",
       "0        101348.88       1  \n",
       "1        112542.58       0  \n",
       "2        113931.57       1  \n",
       "3         93826.63       0  \n",
       "4         79084.10       0  "
      ]
     },
     "execution_count": 4,
     "metadata": {},
     "output_type": "execute_result"
    }
   ],
   "source": [
    "df = pd.read_csv('Data\\Dataset.csv')\n",
    "\n",
    "print('Dataset Imported Successfully!\\n')\n",
    "print('It contains {} rows and {} columns.'.format(df.shape[0], df.shape[1]))\n",
    "print('Top five rows:')\n",
    "df.head()"
   ]
  },
  {
   "cell_type": "markdown",
   "id": "47f2c3d8",
   "metadata": {},
   "source": [
    "Our DataFrame has 14 features/attributes and 10K customers/instances. The last feature, '**Exited**', is the **target variable** and indicates whether the customer has churned (0 = No, 1 = Yes). The meaning of the rest of the features can be easily inferred from their name.\n",
    "\n",
    "Features 'RowNumber', 'CustomerId', and 'Surname' are specific to each customer and can be dropped:"
   ]
  },
  {
   "cell_type": "code",
   "execution_count": 5,
   "id": "3d1c47e7",
   "metadata": {
    "ExecuteTime": {
     "end_time": "2021-12-01T14:58:13.335053Z",
     "start_time": "2021-12-01T14:58:13.319173Z"
    }
   },
   "outputs": [
    {
     "data": {
      "text/plain": [
       "Index(['CreditScore', 'Geography', 'Gender', 'Age', 'Tenure', 'Balance',\n",
       "       'NumOfProducts', 'HasCrCard', 'IsActiveMember', 'EstimatedSalary',\n",
       "       'Exited'],\n",
       "      dtype='object')"
      ]
     },
     "execution_count": 5,
     "metadata": {},
     "output_type": "execute_result"
    }
   ],
   "source": [
    "df.drop(['RowNumber', 'CustomerId', 'Surname'], axis=1, inplace=True)\n",
    "df.columns"
   ]
  },
  {
   "cell_type": "markdown",
   "id": "77e284f2",
   "metadata": {},
   "source": [
    "The `info()` method can give us valuable information such as the number of non-null values and the type of each feature:"
   ]
  },
  {
   "cell_type": "code",
   "execution_count": 6,
   "id": "5a2956ae",
   "metadata": {
    "ExecuteTime": {
     "end_time": "2021-12-01T14:58:13.363054Z",
     "start_time": "2021-12-01T14:58:13.335053Z"
    }
   },
   "outputs": [
    {
     "name": "stdout",
     "output_type": "stream",
     "text": [
      "<class 'pandas.core.frame.DataFrame'>\n",
      "RangeIndex: 10000 entries, 0 to 9999\n",
      "Data columns (total 11 columns):\n",
      " #   Column           Non-Null Count  Dtype  \n",
      "---  ------           --------------  -----  \n",
      " 0   CreditScore      10000 non-null  int64  \n",
      " 1   Geography        10000 non-null  object \n",
      " 2   Gender           10000 non-null  object \n",
      " 3   Age              10000 non-null  int64  \n",
      " 4   Tenure           10000 non-null  int64  \n",
      " 5   Balance          10000 non-null  float64\n",
      " 6   NumOfProducts    10000 non-null  int64  \n",
      " 7   HasCrCard        10000 non-null  int64  \n",
      " 8   IsActiveMember   10000 non-null  int64  \n",
      " 9   EstimatedSalary  10000 non-null  float64\n",
      " 10  Exited           10000 non-null  int64  \n",
      "dtypes: float64(2), int64(7), object(2)\n",
      "memory usage: 859.5+ KB\n"
     ]
    }
   ],
   "source": [
    "df.info()"
   ]
  },
  {
   "cell_type": "markdown",
   "id": "c979c5f5",
   "metadata": {},
   "source": [
    "Thankfully, there are **no missing values** in our DataFrame. The `describe()` method gives us a statistical summary of the numerical features:"
   ]
  },
  {
   "cell_type": "code",
   "execution_count": 7,
   "id": "af310d19",
   "metadata": {
    "ExecuteTime": {
     "end_time": "2021-12-01T14:58:13.446978Z",
     "start_time": "2021-12-01T14:58:13.363054Z"
    }
   },
   "outputs": [
    {
     "data": {
      "text/html": [
       "<div>\n",
       "<style scoped>\n",
       "    .dataframe tbody tr th:only-of-type {\n",
       "        vertical-align: middle;\n",
       "    }\n",
       "\n",
       "    .dataframe tbody tr th {\n",
       "        vertical-align: top;\n",
       "    }\n",
       "\n",
       "    .dataframe thead th {\n",
       "        text-align: right;\n",
       "    }\n",
       "</style>\n",
       "<table border=\"1\" class=\"dataframe\">\n",
       "  <thead>\n",
       "    <tr style=\"text-align: right;\">\n",
       "      <th></th>\n",
       "      <th>count</th>\n",
       "      <th>mean</th>\n",
       "      <th>std</th>\n",
       "      <th>min</th>\n",
       "      <th>25%</th>\n",
       "      <th>50%</th>\n",
       "      <th>75%</th>\n",
       "      <th>max</th>\n",
       "    </tr>\n",
       "  </thead>\n",
       "  <tbody>\n",
       "    <tr>\n",
       "      <th>CreditScore</th>\n",
       "      <td>10000.0</td>\n",
       "      <td>650.529</td>\n",
       "      <td>96.653</td>\n",
       "      <td>350.00</td>\n",
       "      <td>584.00</td>\n",
       "      <td>652.000</td>\n",
       "      <td>718.000</td>\n",
       "      <td>850.00</td>\n",
       "    </tr>\n",
       "    <tr>\n",
       "      <th>Age</th>\n",
       "      <td>10000.0</td>\n",
       "      <td>38.922</td>\n",
       "      <td>10.488</td>\n",
       "      <td>18.00</td>\n",
       "      <td>32.00</td>\n",
       "      <td>37.000</td>\n",
       "      <td>44.000</td>\n",
       "      <td>92.00</td>\n",
       "    </tr>\n",
       "    <tr>\n",
       "      <th>Tenure</th>\n",
       "      <td>10000.0</td>\n",
       "      <td>5.013</td>\n",
       "      <td>2.892</td>\n",
       "      <td>0.00</td>\n",
       "      <td>3.00</td>\n",
       "      <td>5.000</td>\n",
       "      <td>7.000</td>\n",
       "      <td>10.00</td>\n",
       "    </tr>\n",
       "    <tr>\n",
       "      <th>Balance</th>\n",
       "      <td>10000.0</td>\n",
       "      <td>76485.889</td>\n",
       "      <td>62397.405</td>\n",
       "      <td>0.00</td>\n",
       "      <td>0.00</td>\n",
       "      <td>97198.540</td>\n",
       "      <td>127644.240</td>\n",
       "      <td>250898.09</td>\n",
       "    </tr>\n",
       "    <tr>\n",
       "      <th>NumOfProducts</th>\n",
       "      <td>10000.0</td>\n",
       "      <td>1.530</td>\n",
       "      <td>0.582</td>\n",
       "      <td>1.00</td>\n",
       "      <td>1.00</td>\n",
       "      <td>1.000</td>\n",
       "      <td>2.000</td>\n",
       "      <td>4.00</td>\n",
       "    </tr>\n",
       "    <tr>\n",
       "      <th>HasCrCard</th>\n",
       "      <td>10000.0</td>\n",
       "      <td>0.706</td>\n",
       "      <td>0.456</td>\n",
       "      <td>0.00</td>\n",
       "      <td>0.00</td>\n",
       "      <td>1.000</td>\n",
       "      <td>1.000</td>\n",
       "      <td>1.00</td>\n",
       "    </tr>\n",
       "    <tr>\n",
       "      <th>IsActiveMember</th>\n",
       "      <td>10000.0</td>\n",
       "      <td>0.515</td>\n",
       "      <td>0.500</td>\n",
       "      <td>0.00</td>\n",
       "      <td>0.00</td>\n",
       "      <td>1.000</td>\n",
       "      <td>1.000</td>\n",
       "      <td>1.00</td>\n",
       "    </tr>\n",
       "    <tr>\n",
       "      <th>EstimatedSalary</th>\n",
       "      <td>10000.0</td>\n",
       "      <td>100090.240</td>\n",
       "      <td>57510.493</td>\n",
       "      <td>11.58</td>\n",
       "      <td>51002.11</td>\n",
       "      <td>100193.915</td>\n",
       "      <td>149388.247</td>\n",
       "      <td>199992.48</td>\n",
       "    </tr>\n",
       "    <tr>\n",
       "      <th>Exited</th>\n",
       "      <td>10000.0</td>\n",
       "      <td>0.204</td>\n",
       "      <td>0.403</td>\n",
       "      <td>0.00</td>\n",
       "      <td>0.00</td>\n",
       "      <td>0.000</td>\n",
       "      <td>0.000</td>\n",
       "      <td>1.00</td>\n",
       "    </tr>\n",
       "  </tbody>\n",
       "</table>\n",
       "</div>"
      ],
      "text/plain": [
       "                   count        mean        std     min       25%         50%  \\\n",
       "CreditScore      10000.0     650.529     96.653  350.00    584.00     652.000   \n",
       "Age              10000.0      38.922     10.488   18.00     32.00      37.000   \n",
       "Tenure           10000.0       5.013      2.892    0.00      3.00       5.000   \n",
       "Balance          10000.0   76485.889  62397.405    0.00      0.00   97198.540   \n",
       "NumOfProducts    10000.0       1.530      0.582    1.00      1.00       1.000   \n",
       "HasCrCard        10000.0       0.706      0.456    0.00      0.00       1.000   \n",
       "IsActiveMember   10000.0       0.515      0.500    0.00      0.00       1.000   \n",
       "EstimatedSalary  10000.0  100090.240  57510.493   11.58  51002.11  100193.915   \n",
       "Exited           10000.0       0.204      0.403    0.00      0.00       0.000   \n",
       "\n",
       "                        75%        max  \n",
       "CreditScore         718.000     850.00  \n",
       "Age                  44.000      92.00  \n",
       "Tenure                7.000      10.00  \n",
       "Balance          127644.240  250898.09  \n",
       "NumOfProducts         2.000       4.00  \n",
       "HasCrCard             1.000       1.00  \n",
       "IsActiveMember        1.000       1.00  \n",
       "EstimatedSalary  149388.247  199992.48  \n",
       "Exited                0.000       1.00  "
      ]
     },
     "execution_count": 7,
     "metadata": {},
     "output_type": "execute_result"
    }
   ],
   "source": [
    "df.describe().T"
   ]
  },
  {
   "cell_type": "markdown",
   "id": "d0d4b452",
   "metadata": {},
   "source": [
    "The most important things to note are:\n",
    "\n",
    "- The age of customers ranges from 18 to 92, with a mean value approximately equal to 40.\n",
    "- The mean (and median) tenure is 5 years, so the majority of customers is loyal (tenure > 3).\n",
    "- Approximately 50% of customers are active.\n",
    "\n",
    "EDA will help us understand our dataset better. However, before we look at the data further, we need to create a **test set**, put it aside, and use it only to evaluate our Machine Learning models. This practice protects our models from **data snooping bias** (you can read more on page 51 of Ref. [[1](#Bibliography)]) and ensures that evaluation will be performed using unseen data. "
   ]
  },
  {
   "cell_type": "markdown",
   "id": "ae142138",
   "metadata": {},
   "source": [
    "<br>\n",
    "\n",
    "# Creating a Test Set\n",
    "\n",
    "We will split our dataset into a train and a test set using scikit-learn's `StratifiedShuffleSplit()` function, which implements **stratified sampling**. In this method, the population is divided into homogeneous subgroups called *strata*, and the right number of instances are sampled from each stratum to guaranτee that the test set is representative of the overall population ([[1](#Bibliography)])."
   ]
  },
  {
   "cell_type": "code",
   "execution_count": 8,
   "id": "af757c7e",
   "metadata": {
    "ExecuteTime": {
     "end_time": "2021-12-01T14:58:13.478980Z",
     "start_time": "2021-12-01T14:58:13.450980Z"
    }
   },
   "outputs": [],
   "source": [
    "split = StratifiedShuffleSplit(n_splits=1,\n",
    "                               test_size=0.2,\n",
    "                               random_state=random_state)\n",
    "\n",
    "for train_index, test_index in split.split(df, df['Exited']):\n",
    "    train_df = df.loc[train_index]\n",
    "    test_df = df.loc[test_index]"
   ]
  },
  {
   "cell_type": "markdown",
   "id": "7e8856c8",
   "metadata": {},
   "source": [
    "<br>\n",
    "\n",
    "# Exploratory Data Analysis\n",
    "\n",
    "## Target Variable: Exited\n",
    "\n",
    "As we mentioned earlier, the target variable is already encoded and can take two possible values:\n",
    "\n",
    "- Zero (0) for a customer that has **not** churned, and\n",
    "- One (1) for a customer that has churned."
   ]
  },
  {
   "cell_type": "code",
   "execution_count": 9,
   "id": "8f3b741c",
   "metadata": {
    "ExecuteTime": {
     "end_time": "2021-12-01T14:58:13.908408Z",
     "start_time": "2021-12-01T14:58:13.482980Z"
    }
   },
   "outputs": [
    {
     "data": {
      "image/png": "[encoded data removed]",
      "text/plain": [
       "<Figure size 432x432 with 1 Axes>"
      ]
     },
     "metadata": {
      "image/png": {
       "height": 392,
       "width": 418
      }
     },
     "output_type": "display_data"
    }
   ],
   "source": [
    "fig, ax = plt.subplots(figsize=(6, 6))\n",
    "\n",
    "sns.countplot(x='Exited', data=train_df, palette=colors, ax=ax)\n",
    "\n",
    "for index, value in enumerate(train_df['Exited'].value_counts()):\n",
    "    label = '{}%'.format(round((value / train_df['Exited'].shape[0]) * 100, 2))\n",
    "    ax.annotate(label,\n",
    "                xy=(index, value + 250),\n",
    "                ha='center',\n",
    "                va='center',\n",
    "                color=colors[index],\n",
    "                fontweight='bold',\n",
    "                size=font_size + 4)\n",
    "\n",
    "ax.set_xticklabels(['Retained', 'Churned'])\n",
    "ax.set_xlabel('Status')\n",
    "ax.set_ylabel('Count')\n",
    "ax.set_ylim([0, 7000]);"
   ]
  },
  {
   "cell_type": "markdown",
   "id": "c9086909",
   "metadata": {},
   "source": [
    "The bank kept 80% of its clientele.\n",
    "\n",
    "Notice that our dataset is **skewed/imbalanced** since the number of instances in the 'Retained' class outnumbers the number of instances in the 'Churned' class by a factor of 4. Therefore, we need to factor in class imbalance before building any models.\n",
    "\n",
    "Different visualisation techniques apply to different types of variables, so it is helpful to differentiate between continuous and categorical variables and look at them separately."
   ]
  },
  {
   "cell_type": "code",
   "execution_count": 10,
   "id": "6e09b1a9",
   "metadata": {
    "ExecuteTime": {
     "end_time": "2021-12-01T14:58:13.920406Z",
     "start_time": "2021-12-01T14:58:13.908408Z"
    }
   },
   "outputs": [
    {
     "name": "stdout",
     "output_type": "stream",
     "text": [
      "Continuous:  Age, CreditScore, Balance, EstimatedSalary\n",
      "Categorical:  Geography, Gender, Tenure, NumOfProducts, HasCrCard, IsActiveMember\n"
     ]
    }
   ],
   "source": [
    "continuous = ['Age', 'CreditScore', 'Balance', 'EstimatedSalary']\n",
    "categorical = ['Geography', 'Gender', 'Tenure', 'NumOfProducts', 'HasCrCard', 'IsActiveMember']\n",
    "\n",
    "print('Continuous: ', ', '.join(continuous))\n",
    "print('Categorical: ', ', '.join(categorical))"
   ]
  },
  {
   "cell_type": "markdown",
   "id": "14046054",
   "metadata": {},
   "source": [
    "<br>\n",
    "\n",
    "# Data Preprocessing\n",
    "\n",
    "<br>\n",
    "\n",
    "## Feature Selection"
   ]
  },
  {
   "cell_type": "markdown",
   "id": "906f3a06",
   "metadata": {},
   "source": [
    "<br>\n",
    "\n",
    "## Encoding Categorical Features"
   ]
  },
  {
   "cell_type": "markdown",
   "id": "7ec9549a",
   "metadata": {},
   "source": [
    "<br>\n",
    "\n",
    "## Scaling"
   ]
  },
  {
   "cell_type": "markdown",
   "id": "e60314a9",
   "metadata": {},
   "source": [
    "<br>\n",
    "\n",
    "## Addressing Class Imbalance"
   ]
  },
  {
   "cell_type": "markdown",
   "id": "bf03952e",
   "metadata": {},
   "source": [
    "<br>\n",
    "\n",
    "# Building Machine Learning Models\n",
    "\n",
    "<br> \n",
    "\n",
    "## Baseline Models"
   ]
  },
  {
   "cell_type": "markdown",
   "id": "dd27f92d",
   "metadata": {},
   "source": [
    "<br>\n",
    "\n",
    "## Model Tuning"
   ]
  },
  {
   "cell_type": "markdown",
   "id": "f6c84758",
   "metadata": {},
   "source": [
    "<br>\n",
    "\n",
    "# Results"
   ]
  },
  {
   "cell_type": "markdown",
   "id": "edb3cad3",
   "metadata": {},
   "source": [
    "<br>\n",
    "\n",
    "# Evaluating the Test Set"
   ]
  },
  {
   "cell_type": "markdown",
   "id": "b12b7aa9",
   "metadata": {},
   "source": [
    "<br>\n",
    "\n",
    "# Bibliography"
   ]
  },
  {
   "cell_type": "markdown",
   "id": "d5bead6e",
   "metadata": {},
   "source": [
    "<br>\n",
    "\n",
    "# Conclusions"
   ]
  }
 ],
 "metadata": {
  "hide_input": false,
  "kernelspec": {
   "display_name": "Python 3",
   "language": "python",
   "name": "python3"
  },
  "language_info": {
   "codemirror_mode": {
    "name": "ipython",
    "version": 3
   },
   "file_extension": ".py",
   "mimetype": "text/x-python",
   "name": "python",
   "nbconvert_exporter": "python",
   "pygments_lexer": "ipython3",
   "version": "3.6.8"
  },
  "varInspector": {
   "cols": {
    "lenName": 16,
    "lenType": 16,
    "lenVar": 40
   },
   "kernels_config": {
    "python": {
     "delete_cmd_postfix": "",
     "delete_cmd_prefix": "del ",
     "library": "var_list.py",
     "varRefreshCmd": "print(var_dic_list())"
    },
    "r": {
     "delete_cmd_postfix": ") ",
     "delete_cmd_prefix": "rm(",
     "library": "var_list.r",
     "varRefreshCmd": "cat(var_dic_list()) "
    }
   },
   "types_to_exclude": [
    "module",
    "function",
    "builtin_function_or_method",
    "instance",
    "_Feature"
   ],
   "window_display": false
  }
 },
 "nbformat": 4,
 "nbformat_minor": 5
}
